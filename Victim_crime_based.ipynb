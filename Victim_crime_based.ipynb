{
 "cells": [
  {
   "cell_type": "code",
   "execution_count": 391,
   "metadata": {},
   "outputs": [],
   "source": [
    "import pandas as pd\n",
    "import seaborn as sns\n",
    "import numpy as np\n",
    "import matplotlib.pyplot as plt\n",
    "%matplotlib inline\n",
    "import plotly.express as px"
   ]
  },
  {
   "cell_type": "code",
   "execution_count": 392,
   "metadata": {},
   "outputs": [],
   "source": [
    "data_crime=pd.read_csv(\"BPD_Part_1_Victim_Based_Crime_Data.csv\")"
   ]
  },
  {
   "cell_type": "code",
   "execution_count": 393,
   "metadata": {},
   "outputs": [
    {
     "data": {
      "text/html": [
       "<div>\n",
       "<style scoped>\n",
       "    .dataframe tbody tr th:only-of-type {\n",
       "        vertical-align: middle;\n",
       "    }\n",
       "\n",
       "    .dataframe tbody tr th {\n",
       "        vertical-align: top;\n",
       "    }\n",
       "\n",
       "    .dataframe thead th {\n",
       "        text-align: right;\n",
       "    }\n",
       "</style>\n",
       "<table border=\"1\" class=\"dataframe\">\n",
       "  <thead>\n",
       "    <tr style=\"text-align: right;\">\n",
       "      <th></th>\n",
       "      <th>CrimeDate</th>\n",
       "      <th>CrimeTime</th>\n",
       "      <th>CrimeCode</th>\n",
       "      <th>Location</th>\n",
       "      <th>Description</th>\n",
       "      <th>Inside/Outside</th>\n",
       "      <th>Weapon</th>\n",
       "      <th>Post</th>\n",
       "      <th>District</th>\n",
       "      <th>Neighborhood</th>\n",
       "      <th>Longitude</th>\n",
       "      <th>Latitude</th>\n",
       "      <th>Location 1</th>\n",
       "      <th>Premise</th>\n",
       "      <th>Total Incidents</th>\n",
       "    </tr>\n",
       "  </thead>\n",
       "  <tbody>\n",
       "    <tr>\n",
       "      <th>0</th>\n",
       "      <td>09/02/2017</td>\n",
       "      <td>23:30:00</td>\n",
       "      <td>3JK</td>\n",
       "      <td>4200 AUDREY AVE</td>\n",
       "      <td>ROBBERY - RESIDENCE</td>\n",
       "      <td>I</td>\n",
       "      <td>KNIFE</td>\n",
       "      <td>913.0</td>\n",
       "      <td>SOUTHERN</td>\n",
       "      <td>Brooklyn</td>\n",
       "      <td>-76.60541</td>\n",
       "      <td>39.22951</td>\n",
       "      <td>(39.2295100000, -76.6054100000)</td>\n",
       "      <td>ROW/TOWNHO</td>\n",
       "      <td>1</td>\n",
       "    </tr>\n",
       "    <tr>\n",
       "      <th>1</th>\n",
       "      <td>09/02/2017</td>\n",
       "      <td>23:00:00</td>\n",
       "      <td>7A</td>\n",
       "      <td>800 NEWINGTON AVE</td>\n",
       "      <td>AUTO THEFT</td>\n",
       "      <td>O</td>\n",
       "      <td>NaN</td>\n",
       "      <td>133.0</td>\n",
       "      <td>CENTRAL</td>\n",
       "      <td>Reservoir Hill</td>\n",
       "      <td>-76.63217</td>\n",
       "      <td>39.31360</td>\n",
       "      <td>(39.3136000000, -76.6321700000)</td>\n",
       "      <td>STREET</td>\n",
       "      <td>1</td>\n",
       "    </tr>\n",
       "    <tr>\n",
       "      <th>2</th>\n",
       "      <td>09/02/2017</td>\n",
       "      <td>22:53:00</td>\n",
       "      <td>9S</td>\n",
       "      <td>600 RADNOR AV</td>\n",
       "      <td>SHOOTING</td>\n",
       "      <td>Outside</td>\n",
       "      <td>FIREARM</td>\n",
       "      <td>524.0</td>\n",
       "      <td>NORTHERN</td>\n",
       "      <td>Winston-Govans</td>\n",
       "      <td>-76.60697</td>\n",
       "      <td>39.34768</td>\n",
       "      <td>(39.3476800000, -76.6069700000)</td>\n",
       "      <td>Street</td>\n",
       "      <td>1</td>\n",
       "    </tr>\n",
       "    <tr>\n",
       "      <th>3</th>\n",
       "      <td>09/02/2017</td>\n",
       "      <td>22:50:00</td>\n",
       "      <td>4C</td>\n",
       "      <td>1800 RAMSAY ST</td>\n",
       "      <td>AGG. ASSAULT</td>\n",
       "      <td>I</td>\n",
       "      <td>OTHER</td>\n",
       "      <td>934.0</td>\n",
       "      <td>SOUTHERN</td>\n",
       "      <td>Carrollton Ridge</td>\n",
       "      <td>-76.64526</td>\n",
       "      <td>39.28315</td>\n",
       "      <td>(39.2831500000, -76.6452600000)</td>\n",
       "      <td>ROW/TOWNHO</td>\n",
       "      <td>1</td>\n",
       "    </tr>\n",
       "    <tr>\n",
       "      <th>4</th>\n",
       "      <td>09/02/2017</td>\n",
       "      <td>22:31:00</td>\n",
       "      <td>4E</td>\n",
       "      <td>100 LIGHT ST</td>\n",
       "      <td>COMMON ASSAULT</td>\n",
       "      <td>O</td>\n",
       "      <td>HANDS</td>\n",
       "      <td>113.0</td>\n",
       "      <td>CENTRAL</td>\n",
       "      <td>Downtown West</td>\n",
       "      <td>-76.61365</td>\n",
       "      <td>39.28756</td>\n",
       "      <td>(39.2875600000, -76.6136500000)</td>\n",
       "      <td>STREET</td>\n",
       "      <td>1</td>\n",
       "    </tr>\n",
       "  </tbody>\n",
       "</table>\n",
       "</div>"
      ],
      "text/plain": [
       "    CrimeDate CrimeTime CrimeCode           Location          Description  \\\n",
       "0  09/02/2017  23:30:00       3JK    4200 AUDREY AVE  ROBBERY - RESIDENCE   \n",
       "1  09/02/2017  23:00:00        7A  800 NEWINGTON AVE           AUTO THEFT   \n",
       "2  09/02/2017  22:53:00        9S      600 RADNOR AV             SHOOTING   \n",
       "3  09/02/2017  22:50:00        4C     1800 RAMSAY ST         AGG. ASSAULT   \n",
       "4  09/02/2017  22:31:00        4E       100 LIGHT ST       COMMON ASSAULT   \n",
       "\n",
       "  Inside/Outside   Weapon   Post  District      Neighborhood  Longitude  \\\n",
       "0              I    KNIFE  913.0  SOUTHERN          Brooklyn  -76.60541   \n",
       "1              O      NaN  133.0   CENTRAL    Reservoir Hill  -76.63217   \n",
       "2        Outside  FIREARM  524.0  NORTHERN    Winston-Govans  -76.60697   \n",
       "3              I    OTHER  934.0  SOUTHERN  Carrollton Ridge  -76.64526   \n",
       "4              O    HANDS  113.0   CENTRAL     Downtown West  -76.61365   \n",
       "\n",
       "   Latitude                       Location 1     Premise  Total Incidents  \n",
       "0  39.22951  (39.2295100000, -76.6054100000)  ROW/TOWNHO                1  \n",
       "1  39.31360  (39.3136000000, -76.6321700000)      STREET                1  \n",
       "2  39.34768  (39.3476800000, -76.6069700000)      Street                1  \n",
       "3  39.28315  (39.2831500000, -76.6452600000)  ROW/TOWNHO                1  \n",
       "4  39.28756  (39.2875600000, -76.6136500000)      STREET                1  "
      ]
     },
     "execution_count": 393,
     "metadata": {},
     "output_type": "execute_result"
    }
   ],
   "source": [
    "data_crime.head()"
   ]
  },
  {
   "cell_type": "code",
   "execution_count": 394,
   "metadata": {},
   "outputs": [
    {
     "name": "stdout",
     "output_type": "stream",
     "text": [
      "<class 'pandas.core.frame.DataFrame'>\n",
      "RangeIndex: 276529 entries, 0 to 276528\n",
      "Data columns (total 15 columns):\n",
      " #   Column           Non-Null Count   Dtype  \n",
      "---  ------           --------------   -----  \n",
      " 0   CrimeDate        276529 non-null  object \n",
      " 1   CrimeTime        276529 non-null  object \n",
      " 2   CrimeCode        276529 non-null  object \n",
      " 3   Location         274322 non-null  object \n",
      " 4   Description      276529 non-null  object \n",
      " 5   Inside/Outside   266250 non-null  object \n",
      " 6   Weapon           95577 non-null   object \n",
      " 7   Post             276305 non-null  float64\n",
      " 8   District         276449 non-null  object \n",
      " 9   Neighborhood     273789 non-null  object \n",
      " 10  Longitude        274325 non-null  float64\n",
      " 11  Latitude         274325 non-null  float64\n",
      " 12  Location 1       274325 non-null  object \n",
      " 13  Premise          265772 non-null  object \n",
      " 14  Total Incidents  276529 non-null  int64  \n",
      "dtypes: float64(3), int64(1), object(11)\n",
      "memory usage: 31.6+ MB\n"
     ]
    }
   ],
   "source": [
    "data_crime.info()"
   ]
  },
  {
   "cell_type": "markdown",
   "metadata": {},
   "source": [
    "# EDA"
   ]
  },
  {
   "cell_type": "code",
   "execution_count": 395,
   "metadata": {},
   "outputs": [],
   "source": [
    "year=data_crime[\"CrimeDate\"].str.extract(r'(\\d{4})').rename(columns={0:\"year\"})\n",
    "day=data_crime[\"CrimeDate\"].str.extract(r'.(\\d{2})').rename(columns={0:\"day\"})\n",
    "month=data_crime[\"CrimeDate\"].str.extract(r'(\\d{2})').rename(columns={0:\"month\"})"
   ]
  },
  {
   "cell_type": "code",
   "execution_count": 396,
   "metadata": {},
   "outputs": [
    {
     "data": {
      "text/plain": [
       "day    31\n",
       "dtype: object"
      ]
     },
     "execution_count": 396,
     "metadata": {},
     "output_type": "execute_result"
    }
   ],
   "source": [
    "day.max()"
   ]
  },
  {
   "cell_type": "code",
   "execution_count": 397,
   "metadata": {},
   "outputs": [
    {
     "data": {
      "text/plain": [
       "month    12\n",
       "dtype: object"
      ]
     },
     "execution_count": 397,
     "metadata": {},
     "output_type": "execute_result"
    }
   ],
   "source": [
    "month.max()"
   ]
  },
  {
   "cell_type": "code",
   "execution_count": 398,
   "metadata": {},
   "outputs": [],
   "source": [
    "data_crime.dropna(inplace=True)\n",
    "data_crime.drop(columns=[\"CrimeDate\"],inplace=True)"
   ]
  },
  {
   "cell_type": "code",
   "execution_count": 399,
   "metadata": {},
   "outputs": [],
   "source": [
    "date=pd.concat([year,month,day],axis=1)\n",
    "data_crime=pd.concat([date,data_crime],axis=1)"
   ]
  },
  {
   "cell_type": "markdown",
   "metadata": {},
   "source": [
    "# How to see most Crime in 2017 "
   ]
  },
  {
   "cell_type": "code",
   "execution_count": 400,
   "metadata": {},
   "outputs": [],
   "source": [
    "most_crime_2017=data_crime[data_crime[\"year\"]==\"2017\"]"
   ]
  },
  {
   "cell_type": "code",
   "execution_count": 401,
   "metadata": {},
   "outputs": [
    {
     "data": {
      "text/plain": [
       "year  Description         \n",
       "2017  COMMON ASSAULT          4642\n",
       "      AGG. ASSAULT            3021\n",
       "      ROBBERY - STREET        1306\n",
       "      SHOOTING                 465\n",
       "      ROBBERY - COMMERCIAL     373\n",
       "      HOMICIDE                 232\n",
       "      ROBBERY - CARJACKING     211\n",
       "      RAPE                     151\n",
       "      ROBBERY - RESIDENCE      137\n",
       "Name: Description, dtype: int64"
      ]
     },
     "execution_count": 401,
     "metadata": {},
     "output_type": "execute_result"
    }
   ],
   "source": [
    "most_crime_2017.groupby('year')[\"Description\"].value_counts()"
   ]
  },
  {
   "cell_type": "code",
   "execution_count": 402,
   "metadata": {},
   "outputs": [],
   "source": [
    "style_most_crime= pd.DataFrame(most_crime_2017['Description'].value_counts()).rename({\"Description\":\"Total crime\"}, axis = 1).rename_axis(\"Description\").head(10).reset_index()"
   ]
  },
  {
   "cell_type": "code",
   "execution_count": 403,
   "metadata": {},
   "outputs": [
    {
     "data": {
      "application/vnd.plotly.v1+json": {
       "config": {
        "plotlyServerURL": "https://plot.ly"
       },
       "data": [
        {
         "alignmentgroup": "True",
         "hovertemplate": "Description=%{x}<br>Total crime=%{y}<extra></extra>",
         "legendgroup": "COMMON ASSAULT",
         "marker": {
          "color": "#636efa",
          "pattern": {
           "shape": ""
          }
         },
         "name": "COMMON ASSAULT",
         "offsetgroup": "COMMON ASSAULT",
         "orientation": "v",
         "showlegend": true,
         "textposition": "auto",
         "type": "bar",
         "x": [
          "COMMON ASSAULT"
         ],
         "xaxis": "x",
         "y": [
          4642
         ],
         "yaxis": "y"
        },
        {
         "alignmentgroup": "True",
         "hovertemplate": "Description=%{x}<br>Total crime=%{y}<extra></extra>",
         "legendgroup": "AGG. ASSAULT",
         "marker": {
          "color": "#EF553B",
          "pattern": {
           "shape": ""
          }
         },
         "name": "AGG. ASSAULT",
         "offsetgroup": "AGG. ASSAULT",
         "orientation": "v",
         "showlegend": true,
         "textposition": "auto",
         "type": "bar",
         "x": [
          "AGG. ASSAULT"
         ],
         "xaxis": "x",
         "y": [
          3021
         ],
         "yaxis": "y"
        },
        {
         "alignmentgroup": "True",
         "hovertemplate": "Description=%{x}<br>Total crime=%{y}<extra></extra>",
         "legendgroup": "ROBBERY - STREET",
         "marker": {
          "color": "#00cc96",
          "pattern": {
           "shape": ""
          }
         },
         "name": "ROBBERY - STREET",
         "offsetgroup": "ROBBERY - STREET",
         "orientation": "v",
         "showlegend": true,
         "textposition": "auto",
         "type": "bar",
         "x": [
          "ROBBERY - STREET"
         ],
         "xaxis": "x",
         "y": [
          1306
         ],
         "yaxis": "y"
        },
        {
         "alignmentgroup": "True",
         "hovertemplate": "Description=%{x}<br>Total crime=%{y}<extra></extra>",
         "legendgroup": "SHOOTING",
         "marker": {
          "color": "#ab63fa",
          "pattern": {
           "shape": ""
          }
         },
         "name": "SHOOTING",
         "offsetgroup": "SHOOTING",
         "orientation": "v",
         "showlegend": true,
         "textposition": "auto",
         "type": "bar",
         "x": [
          "SHOOTING"
         ],
         "xaxis": "x",
         "y": [
          465
         ],
         "yaxis": "y"
        },
        {
         "alignmentgroup": "True",
         "hovertemplate": "Description=%{x}<br>Total crime=%{y}<extra></extra>",
         "legendgroup": "ROBBERY - COMMERCIAL",
         "marker": {
          "color": "#FFA15A",
          "pattern": {
           "shape": ""
          }
         },
         "name": "ROBBERY - COMMERCIAL",
         "offsetgroup": "ROBBERY - COMMERCIAL",
         "orientation": "v",
         "showlegend": true,
         "textposition": "auto",
         "type": "bar",
         "x": [
          "ROBBERY - COMMERCIAL"
         ],
         "xaxis": "x",
         "y": [
          373
         ],
         "yaxis": "y"
        },
        {
         "alignmentgroup": "True",
         "hovertemplate": "Description=%{x}<br>Total crime=%{y}<extra></extra>",
         "legendgroup": "HOMICIDE",
         "marker": {
          "color": "#19d3f3",
          "pattern": {
           "shape": ""
          }
         },
         "name": "HOMICIDE",
         "offsetgroup": "HOMICIDE",
         "orientation": "v",
         "showlegend": true,
         "textposition": "auto",
         "type": "bar",
         "x": [
          "HOMICIDE"
         ],
         "xaxis": "x",
         "y": [
          232
         ],
         "yaxis": "y"
        },
        {
         "alignmentgroup": "True",
         "hovertemplate": "Description=%{x}<br>Total crime=%{y}<extra></extra>",
         "legendgroup": "ROBBERY - CARJACKING",
         "marker": {
          "color": "#FF6692",
          "pattern": {
           "shape": ""
          }
         },
         "name": "ROBBERY - CARJACKING",
         "offsetgroup": "ROBBERY - CARJACKING",
         "orientation": "v",
         "showlegend": true,
         "textposition": "auto",
         "type": "bar",
         "x": [
          "ROBBERY - CARJACKING"
         ],
         "xaxis": "x",
         "y": [
          211
         ],
         "yaxis": "y"
        },
        {
         "alignmentgroup": "True",
         "hovertemplate": "Description=%{x}<br>Total crime=%{y}<extra></extra>",
         "legendgroup": "RAPE",
         "marker": {
          "color": "#B6E880",
          "pattern": {
           "shape": ""
          }
         },
         "name": "RAPE",
         "offsetgroup": "RAPE",
         "orientation": "v",
         "showlegend": true,
         "textposition": "auto",
         "type": "bar",
         "x": [
          "RAPE"
         ],
         "xaxis": "x",
         "y": [
          151
         ],
         "yaxis": "y"
        },
        {
         "alignmentgroup": "True",
         "hovertemplate": "Description=%{x}<br>Total crime=%{y}<extra></extra>",
         "legendgroup": "ROBBERY - RESIDENCE",
         "marker": {
          "color": "#FF97FF",
          "pattern": {
           "shape": ""
          }
         },
         "name": "ROBBERY - RESIDENCE",
         "offsetgroup": "ROBBERY - RESIDENCE",
         "orientation": "v",
         "showlegend": true,
         "textposition": "auto",
         "type": "bar",
         "x": [
          "ROBBERY - RESIDENCE"
         ],
         "xaxis": "x",
         "y": [
          137
         ],
         "yaxis": "y"
        }
       ],
       "layout": {
        "barmode": "relative",
        "legend": {
         "title": {
          "text": "Description"
         },
         "tracegroupgap": 0
        },
        "margin": {
         "t": 60
        },
        "template": {
         "data": {
          "bar": [
           {
            "error_x": {
             "color": "#2a3f5f"
            },
            "error_y": {
             "color": "#2a3f5f"
            },
            "marker": {
             "line": {
              "color": "#E5ECF6",
              "width": 0.5
             },
             "pattern": {
              "fillmode": "overlay",
              "size": 10,
              "solidity": 0.2
             }
            },
            "type": "bar"
           }
          ],
          "barpolar": [
           {
            "marker": {
             "line": {
              "color": "#E5ECF6",
              "width": 0.5
             },
             "pattern": {
              "fillmode": "overlay",
              "size": 10,
              "solidity": 0.2
             }
            },
            "type": "barpolar"
           }
          ],
          "carpet": [
           {
            "aaxis": {
             "endlinecolor": "#2a3f5f",
             "gridcolor": "white",
             "linecolor": "white",
             "minorgridcolor": "white",
             "startlinecolor": "#2a3f5f"
            },
            "baxis": {
             "endlinecolor": "#2a3f5f",
             "gridcolor": "white",
             "linecolor": "white",
             "minorgridcolor": "white",
             "startlinecolor": "#2a3f5f"
            },
            "type": "carpet"
           }
          ],
          "choropleth": [
           {
            "colorbar": {
             "outlinewidth": 0,
             "ticks": ""
            },
            "type": "choropleth"
           }
          ],
          "contour": [
           {
            "colorbar": {
             "outlinewidth": 0,
             "ticks": ""
            },
            "colorscale": [
             [
              0,
              "#0d0887"
             ],
             [
              0.1111111111111111,
              "#46039f"
             ],
             [
              0.2222222222222222,
              "#7201a8"
             ],
             [
              0.3333333333333333,
              "#9c179e"
             ],
             [
              0.4444444444444444,
              "#bd3786"
             ],
             [
              0.5555555555555556,
              "#d8576b"
             ],
             [
              0.6666666666666666,
              "#ed7953"
             ],
             [
              0.7777777777777778,
              "#fb9f3a"
             ],
             [
              0.8888888888888888,
              "#fdca26"
             ],
             [
              1,
              "#f0f921"
             ]
            ],
            "type": "contour"
           }
          ],
          "contourcarpet": [
           {
            "colorbar": {
             "outlinewidth": 0,
             "ticks": ""
            },
            "type": "contourcarpet"
           }
          ],
          "heatmap": [
           {
            "colorbar": {
             "outlinewidth": 0,
             "ticks": ""
            },
            "colorscale": [
             [
              0,
              "#0d0887"
             ],
             [
              0.1111111111111111,
              "#46039f"
             ],
             [
              0.2222222222222222,
              "#7201a8"
             ],
             [
              0.3333333333333333,
              "#9c179e"
             ],
             [
              0.4444444444444444,
              "#bd3786"
             ],
             [
              0.5555555555555556,
              "#d8576b"
             ],
             [
              0.6666666666666666,
              "#ed7953"
             ],
             [
              0.7777777777777778,
              "#fb9f3a"
             ],
             [
              0.8888888888888888,
              "#fdca26"
             ],
             [
              1,
              "#f0f921"
             ]
            ],
            "type": "heatmap"
           }
          ],
          "heatmapgl": [
           {
            "colorbar": {
             "outlinewidth": 0,
             "ticks": ""
            },
            "colorscale": [
             [
              0,
              "#0d0887"
             ],
             [
              0.1111111111111111,
              "#46039f"
             ],
             [
              0.2222222222222222,
              "#7201a8"
             ],
             [
              0.3333333333333333,
              "#9c179e"
             ],
             [
              0.4444444444444444,
              "#bd3786"
             ],
             [
              0.5555555555555556,
              "#d8576b"
             ],
             [
              0.6666666666666666,
              "#ed7953"
             ],
             [
              0.7777777777777778,
              "#fb9f3a"
             ],
             [
              0.8888888888888888,
              "#fdca26"
             ],
             [
              1,
              "#f0f921"
             ]
            ],
            "type": "heatmapgl"
           }
          ],
          "histogram": [
           {
            "marker": {
             "pattern": {
              "fillmode": "overlay",
              "size": 10,
              "solidity": 0.2
             }
            },
            "type": "histogram"
           }
          ],
          "histogram2d": [
           {
            "colorbar": {
             "outlinewidth": 0,
             "ticks": ""
            },
            "colorscale": [
             [
              0,
              "#0d0887"
             ],
             [
              0.1111111111111111,
              "#46039f"
             ],
             [
              0.2222222222222222,
              "#7201a8"
             ],
             [
              0.3333333333333333,
              "#9c179e"
             ],
             [
              0.4444444444444444,
              "#bd3786"
             ],
             [
              0.5555555555555556,
              "#d8576b"
             ],
             [
              0.6666666666666666,
              "#ed7953"
             ],
             [
              0.7777777777777778,
              "#fb9f3a"
             ],
             [
              0.8888888888888888,
              "#fdca26"
             ],
             [
              1,
              "#f0f921"
             ]
            ],
            "type": "histogram2d"
           }
          ],
          "histogram2dcontour": [
           {
            "colorbar": {
             "outlinewidth": 0,
             "ticks": ""
            },
            "colorscale": [
             [
              0,
              "#0d0887"
             ],
             [
              0.1111111111111111,
              "#46039f"
             ],
             [
              0.2222222222222222,
              "#7201a8"
             ],
             [
              0.3333333333333333,
              "#9c179e"
             ],
             [
              0.4444444444444444,
              "#bd3786"
             ],
             [
              0.5555555555555556,
              "#d8576b"
             ],
             [
              0.6666666666666666,
              "#ed7953"
             ],
             [
              0.7777777777777778,
              "#fb9f3a"
             ],
             [
              0.8888888888888888,
              "#fdca26"
             ],
             [
              1,
              "#f0f921"
             ]
            ],
            "type": "histogram2dcontour"
           }
          ],
          "mesh3d": [
           {
            "colorbar": {
             "outlinewidth": 0,
             "ticks": ""
            },
            "type": "mesh3d"
           }
          ],
          "parcoords": [
           {
            "line": {
             "colorbar": {
              "outlinewidth": 0,
              "ticks": ""
             }
            },
            "type": "parcoords"
           }
          ],
          "pie": [
           {
            "automargin": true,
            "type": "pie"
           }
          ],
          "scatter": [
           {
            "fillpattern": {
             "fillmode": "overlay",
             "size": 10,
             "solidity": 0.2
            },
            "type": "scatter"
           }
          ],
          "scatter3d": [
           {
            "line": {
             "colorbar": {
              "outlinewidth": 0,
              "ticks": ""
             }
            },
            "marker": {
             "colorbar": {
              "outlinewidth": 0,
              "ticks": ""
             }
            },
            "type": "scatter3d"
           }
          ],
          "scattercarpet": [
           {
            "marker": {
             "colorbar": {
              "outlinewidth": 0,
              "ticks": ""
             }
            },
            "type": "scattercarpet"
           }
          ],
          "scattergeo": [
           {
            "marker": {
             "colorbar": {
              "outlinewidth": 0,
              "ticks": ""
             }
            },
            "type": "scattergeo"
           }
          ],
          "scattergl": [
           {
            "marker": {
             "colorbar": {
              "outlinewidth": 0,
              "ticks": ""
             }
            },
            "type": "scattergl"
           }
          ],
          "scattermapbox": [
           {
            "marker": {
             "colorbar": {
              "outlinewidth": 0,
              "ticks": ""
             }
            },
            "type": "scattermapbox"
           }
          ],
          "scatterpolar": [
           {
            "marker": {
             "colorbar": {
              "outlinewidth": 0,
              "ticks": ""
             }
            },
            "type": "scatterpolar"
           }
          ],
          "scatterpolargl": [
           {
            "marker": {
             "colorbar": {
              "outlinewidth": 0,
              "ticks": ""
             }
            },
            "type": "scatterpolargl"
           }
          ],
          "scatterternary": [
           {
            "marker": {
             "colorbar": {
              "outlinewidth": 0,
              "ticks": ""
             }
            },
            "type": "scatterternary"
           }
          ],
          "surface": [
           {
            "colorbar": {
             "outlinewidth": 0,
             "ticks": ""
            },
            "colorscale": [
             [
              0,
              "#0d0887"
             ],
             [
              0.1111111111111111,
              "#46039f"
             ],
             [
              0.2222222222222222,
              "#7201a8"
             ],
             [
              0.3333333333333333,
              "#9c179e"
             ],
             [
              0.4444444444444444,
              "#bd3786"
             ],
             [
              0.5555555555555556,
              "#d8576b"
             ],
             [
              0.6666666666666666,
              "#ed7953"
             ],
             [
              0.7777777777777778,
              "#fb9f3a"
             ],
             [
              0.8888888888888888,
              "#fdca26"
             ],
             [
              1,
              "#f0f921"
             ]
            ],
            "type": "surface"
           }
          ],
          "table": [
           {
            "cells": {
             "fill": {
              "color": "#EBF0F8"
             },
             "line": {
              "color": "white"
             }
            },
            "header": {
             "fill": {
              "color": "#C8D4E3"
             },
             "line": {
              "color": "white"
             }
            },
            "type": "table"
           }
          ]
         },
         "layout": {
          "annotationdefaults": {
           "arrowcolor": "#2a3f5f",
           "arrowhead": 0,
           "arrowwidth": 1
          },
          "autotypenumbers": "strict",
          "coloraxis": {
           "colorbar": {
            "outlinewidth": 0,
            "ticks": ""
           }
          },
          "colorscale": {
           "diverging": [
            [
             0,
             "#8e0152"
            ],
            [
             0.1,
             "#c51b7d"
            ],
            [
             0.2,
             "#de77ae"
            ],
            [
             0.3,
             "#f1b6da"
            ],
            [
             0.4,
             "#fde0ef"
            ],
            [
             0.5,
             "#f7f7f7"
            ],
            [
             0.6,
             "#e6f5d0"
            ],
            [
             0.7,
             "#b8e186"
            ],
            [
             0.8,
             "#7fbc41"
            ],
            [
             0.9,
             "#4d9221"
            ],
            [
             1,
             "#276419"
            ]
           ],
           "sequential": [
            [
             0,
             "#0d0887"
            ],
            [
             0.1111111111111111,
             "#46039f"
            ],
            [
             0.2222222222222222,
             "#7201a8"
            ],
            [
             0.3333333333333333,
             "#9c179e"
            ],
            [
             0.4444444444444444,
             "#bd3786"
            ],
            [
             0.5555555555555556,
             "#d8576b"
            ],
            [
             0.6666666666666666,
             "#ed7953"
            ],
            [
             0.7777777777777778,
             "#fb9f3a"
            ],
            [
             0.8888888888888888,
             "#fdca26"
            ],
            [
             1,
             "#f0f921"
            ]
           ],
           "sequentialminus": [
            [
             0,
             "#0d0887"
            ],
            [
             0.1111111111111111,
             "#46039f"
            ],
            [
             0.2222222222222222,
             "#7201a8"
            ],
            [
             0.3333333333333333,
             "#9c179e"
            ],
            [
             0.4444444444444444,
             "#bd3786"
            ],
            [
             0.5555555555555556,
             "#d8576b"
            ],
            [
             0.6666666666666666,
             "#ed7953"
            ],
            [
             0.7777777777777778,
             "#fb9f3a"
            ],
            [
             0.8888888888888888,
             "#fdca26"
            ],
            [
             1,
             "#f0f921"
            ]
           ]
          },
          "colorway": [
           "#636efa",
           "#EF553B",
           "#00cc96",
           "#ab63fa",
           "#FFA15A",
           "#19d3f3",
           "#FF6692",
           "#B6E880",
           "#FF97FF",
           "#FECB52"
          ],
          "font": {
           "color": "#2a3f5f"
          },
          "geo": {
           "bgcolor": "white",
           "lakecolor": "white",
           "landcolor": "#E5ECF6",
           "showlakes": true,
           "showland": true,
           "subunitcolor": "white"
          },
          "hoverlabel": {
           "align": "left"
          },
          "hovermode": "closest",
          "mapbox": {
           "style": "light"
          },
          "paper_bgcolor": "white",
          "plot_bgcolor": "#E5ECF6",
          "polar": {
           "angularaxis": {
            "gridcolor": "white",
            "linecolor": "white",
            "ticks": ""
           },
           "bgcolor": "#E5ECF6",
           "radialaxis": {
            "gridcolor": "white",
            "linecolor": "white",
            "ticks": ""
           }
          },
          "scene": {
           "xaxis": {
            "backgroundcolor": "#E5ECF6",
            "gridcolor": "white",
            "gridwidth": 2,
            "linecolor": "white",
            "showbackground": true,
            "ticks": "",
            "zerolinecolor": "white"
           },
           "yaxis": {
            "backgroundcolor": "#E5ECF6",
            "gridcolor": "white",
            "gridwidth": 2,
            "linecolor": "white",
            "showbackground": true,
            "ticks": "",
            "zerolinecolor": "white"
           },
           "zaxis": {
            "backgroundcolor": "#E5ECF6",
            "gridcolor": "white",
            "gridwidth": 2,
            "linecolor": "white",
            "showbackground": true,
            "ticks": "",
            "zerolinecolor": "white"
           }
          },
          "shapedefaults": {
           "line": {
            "color": "#2a3f5f"
           }
          },
          "ternary": {
           "aaxis": {
            "gridcolor": "white",
            "linecolor": "white",
            "ticks": ""
           },
           "baxis": {
            "gridcolor": "white",
            "linecolor": "white",
            "ticks": ""
           },
           "bgcolor": "#E5ECF6",
           "caxis": {
            "gridcolor": "white",
            "linecolor": "white",
            "ticks": ""
           }
          },
          "title": {
           "x": 0.05
          },
          "xaxis": {
           "automargin": true,
           "gridcolor": "white",
           "linecolor": "white",
           "ticks": "",
           "title": {
            "standoff": 15
           },
           "zerolinecolor": "white",
           "zerolinewidth": 2
          },
          "yaxis": {
           "automargin": true,
           "gridcolor": "white",
           "linecolor": "white",
           "ticks": "",
           "title": {
            "standoff": 15
           },
           "zerolinecolor": "white",
           "zerolinewidth": 2
          }
         }
        },
        "xaxis": {
         "anchor": "y",
         "categoryarray": [
          "COMMON ASSAULT",
          "AGG. ASSAULT",
          "ROBBERY - STREET",
          "SHOOTING",
          "ROBBERY - COMMERCIAL",
          "HOMICIDE",
          "ROBBERY - CARJACKING",
          "RAPE",
          "ROBBERY - RESIDENCE"
         ],
         "categoryorder": "array",
         "domain": [
          0,
          1
         ],
         "title": {
          "text": "Description"
         }
        },
        "yaxis": {
         "anchor": "x",
         "domain": [
          0,
          1
         ],
         "title": {
          "text": "Total crime"
         }
        }
       }
      }
     },
     "metadata": {},
     "output_type": "display_data"
    }
   ],
   "source": [
    "px.bar(style_most_crime,x=\"Description\",y=\"Total crime\",color=\"Description\")"
   ]
  },
  {
   "cell_type": "code",
   "execution_count": 404,
   "metadata": {},
   "outputs": [
    {
     "data": {
      "text/html": [
       "<div>\n",
       "<style scoped>\n",
       "    .dataframe tbody tr th:only-of-type {\n",
       "        vertical-align: middle;\n",
       "    }\n",
       "\n",
       "    .dataframe tbody tr th {\n",
       "        vertical-align: top;\n",
       "    }\n",
       "\n",
       "    .dataframe thead th {\n",
       "        text-align: right;\n",
       "    }\n",
       "</style>\n",
       "<table border=\"1\" class=\"dataframe\">\n",
       "  <thead>\n",
       "    <tr style=\"text-align: right;\">\n",
       "      <th></th>\n",
       "      <th>Description</th>\n",
       "      <th>Total crime</th>\n",
       "    </tr>\n",
       "  </thead>\n",
       "  <tbody>\n",
       "    <tr>\n",
       "      <th>0</th>\n",
       "      <td>COMMON ASSAULT</td>\n",
       "      <td>4642</td>\n",
       "    </tr>\n",
       "    <tr>\n",
       "      <th>1</th>\n",
       "      <td>AGG. ASSAULT</td>\n",
       "      <td>3021</td>\n",
       "    </tr>\n",
       "    <tr>\n",
       "      <th>2</th>\n",
       "      <td>ROBBERY - STREET</td>\n",
       "      <td>1306</td>\n",
       "    </tr>\n",
       "    <tr>\n",
       "      <th>3</th>\n",
       "      <td>SHOOTING</td>\n",
       "      <td>465</td>\n",
       "    </tr>\n",
       "    <tr>\n",
       "      <th>4</th>\n",
       "      <td>ROBBERY - COMMERCIAL</td>\n",
       "      <td>373</td>\n",
       "    </tr>\n",
       "    <tr>\n",
       "      <th>5</th>\n",
       "      <td>HOMICIDE</td>\n",
       "      <td>232</td>\n",
       "    </tr>\n",
       "    <tr>\n",
       "      <th>6</th>\n",
       "      <td>ROBBERY - CARJACKING</td>\n",
       "      <td>211</td>\n",
       "    </tr>\n",
       "    <tr>\n",
       "      <th>7</th>\n",
       "      <td>RAPE</td>\n",
       "      <td>151</td>\n",
       "    </tr>\n",
       "    <tr>\n",
       "      <th>8</th>\n",
       "      <td>ROBBERY - RESIDENCE</td>\n",
       "      <td>137</td>\n",
       "    </tr>\n",
       "  </tbody>\n",
       "</table>\n",
       "</div>"
      ],
      "text/plain": [
       "            Description  Total crime\n",
       "0        COMMON ASSAULT         4642\n",
       "1          AGG. ASSAULT         3021\n",
       "2      ROBBERY - STREET         1306\n",
       "3              SHOOTING          465\n",
       "4  ROBBERY - COMMERCIAL          373\n",
       "5              HOMICIDE          232\n",
       "6  ROBBERY - CARJACKING          211\n",
       "7                  RAPE          151\n",
       "8   ROBBERY - RESIDENCE          137"
      ]
     },
     "execution_count": 404,
     "metadata": {},
     "output_type": "execute_result"
    }
   ],
   "source": [
    "style_most_crime"
   ]
  },
  {
   "cell_type": "code",
   "execution_count": 405,
   "metadata": {},
   "outputs": [
    {
     "data": {
      "image/png": "[encoded data removed]",
      "text/plain": [
       "<Figure size 1000x500 with 1 Axes>"
      ]
     },
     "metadata": {},
     "output_type": "display_data"
    }
   ],
   "source": [
    "plt.figure(figsize=(10,5))\n",
    "sns.barplot(data=style_most_crime,x=\"Description\",y=\"Total crime\")\n",
    "plt.xticks(rotation=45, ha='right')\n",
    "plt.title(\"Most Crime in 2017\")\n",
    "plt.show()"
   ]
  },
  {
   "cell_type": "code",
   "execution_count": 406,
   "metadata": {},
   "outputs": [
    {
     "data": {
      "text/html": [
       "<div>\n",
       "<style scoped>\n",
       "    .dataframe tbody tr th:only-of-type {\n",
       "        vertical-align: middle;\n",
       "    }\n",
       "\n",
       "    .dataframe tbody tr th {\n",
       "        vertical-align: top;\n",
       "    }\n",
       "\n",
       "    .dataframe thead th {\n",
       "        text-align: right;\n",
       "    }\n",
       "</style>\n",
       "<table border=\"1\" class=\"dataframe\">\n",
       "  <thead>\n",
       "    <tr style=\"text-align: right;\">\n",
       "      <th></th>\n",
       "      <th>year</th>\n",
       "      <th>month</th>\n",
       "      <th>day</th>\n",
       "      <th>CrimeTime</th>\n",
       "      <th>CrimeCode</th>\n",
       "      <th>Location</th>\n",
       "      <th>Description</th>\n",
       "      <th>Inside/Outside</th>\n",
       "      <th>Weapon</th>\n",
       "      <th>Post</th>\n",
       "      <th>District</th>\n",
       "      <th>Neighborhood</th>\n",
       "      <th>Longitude</th>\n",
       "      <th>Latitude</th>\n",
       "      <th>Location 1</th>\n",
       "      <th>Premise</th>\n",
       "      <th>Total Incidents</th>\n",
       "    </tr>\n",
       "  </thead>\n",
       "  <tbody>\n",
       "    <tr>\n",
       "      <th>0</th>\n",
       "      <td>2017</td>\n",
       "      <td>09</td>\n",
       "      <td>02</td>\n",
       "      <td>23:30:00</td>\n",
       "      <td>3JK</td>\n",
       "      <td>4200 AUDREY AVE</td>\n",
       "      <td>ROBBERY - RESIDENCE</td>\n",
       "      <td>I</td>\n",
       "      <td>KNIFE</td>\n",
       "      <td>913.0</td>\n",
       "      <td>SOUTHERN</td>\n",
       "      <td>Brooklyn</td>\n",
       "      <td>-76.60541</td>\n",
       "      <td>39.22951</td>\n",
       "      <td>(39.2295100000, -76.6054100000)</td>\n",
       "      <td>ROW/TOWNHO</td>\n",
       "      <td>1.0</td>\n",
       "    </tr>\n",
       "    <tr>\n",
       "      <th>1</th>\n",
       "      <td>2017</td>\n",
       "      <td>09</td>\n",
       "      <td>02</td>\n",
       "      <td>NaN</td>\n",
       "      <td>NaN</td>\n",
       "      <td>NaN</td>\n",
       "      <td>NaN</td>\n",
       "      <td>NaN</td>\n",
       "      <td>NaN</td>\n",
       "      <td>NaN</td>\n",
       "      <td>NaN</td>\n",
       "      <td>NaN</td>\n",
       "      <td>NaN</td>\n",
       "      <td>NaN</td>\n",
       "      <td>NaN</td>\n",
       "      <td>NaN</td>\n",
       "      <td>NaN</td>\n",
       "    </tr>\n",
       "    <tr>\n",
       "      <th>2</th>\n",
       "      <td>2017</td>\n",
       "      <td>09</td>\n",
       "      <td>02</td>\n",
       "      <td>22:53:00</td>\n",
       "      <td>9S</td>\n",
       "      <td>600 RADNOR AV</td>\n",
       "      <td>SHOOTING</td>\n",
       "      <td>Outside</td>\n",
       "      <td>FIREARM</td>\n",
       "      <td>524.0</td>\n",
       "      <td>NORTHERN</td>\n",
       "      <td>Winston-Govans</td>\n",
       "      <td>-76.60697</td>\n",
       "      <td>39.34768</td>\n",
       "      <td>(39.3476800000, -76.6069700000)</td>\n",
       "      <td>Street</td>\n",
       "      <td>1.0</td>\n",
       "    </tr>\n",
       "    <tr>\n",
       "      <th>3</th>\n",
       "      <td>2017</td>\n",
       "      <td>09</td>\n",
       "      <td>02</td>\n",
       "      <td>22:50:00</td>\n",
       "      <td>4C</td>\n",
       "      <td>1800 RAMSAY ST</td>\n",
       "      <td>AGG. ASSAULT</td>\n",
       "      <td>I</td>\n",
       "      <td>OTHER</td>\n",
       "      <td>934.0</td>\n",
       "      <td>SOUTHERN</td>\n",
       "      <td>Carrollton Ridge</td>\n",
       "      <td>-76.64526</td>\n",
       "      <td>39.28315</td>\n",
       "      <td>(39.2831500000, -76.6452600000)</td>\n",
       "      <td>ROW/TOWNHO</td>\n",
       "      <td>1.0</td>\n",
       "    </tr>\n",
       "    <tr>\n",
       "      <th>4</th>\n",
       "      <td>2017</td>\n",
       "      <td>09</td>\n",
       "      <td>02</td>\n",
       "      <td>22:31:00</td>\n",
       "      <td>4E</td>\n",
       "      <td>100 LIGHT ST</td>\n",
       "      <td>COMMON ASSAULT</td>\n",
       "      <td>O</td>\n",
       "      <td>HANDS</td>\n",
       "      <td>113.0</td>\n",
       "      <td>CENTRAL</td>\n",
       "      <td>Downtown West</td>\n",
       "      <td>-76.61365</td>\n",
       "      <td>39.28756</td>\n",
       "      <td>(39.2875600000, -76.6136500000)</td>\n",
       "      <td>STREET</td>\n",
       "      <td>1.0</td>\n",
       "    </tr>\n",
       "  </tbody>\n",
       "</table>\n",
       "</div>"
      ],
      "text/plain": [
       "   year month day CrimeTime CrimeCode         Location          Description  \\\n",
       "0  2017    09  02  23:30:00       3JK  4200 AUDREY AVE  ROBBERY - RESIDENCE   \n",
       "1  2017    09  02       NaN       NaN              NaN                  NaN   \n",
       "2  2017    09  02  22:53:00        9S    600 RADNOR AV             SHOOTING   \n",
       "3  2017    09  02  22:50:00        4C   1800 RAMSAY ST         AGG. ASSAULT   \n",
       "4  2017    09  02  22:31:00        4E     100 LIGHT ST       COMMON ASSAULT   \n",
       "\n",
       "  Inside/Outside   Weapon   Post  District      Neighborhood  Longitude  \\\n",
       "0              I    KNIFE  913.0  SOUTHERN          Brooklyn  -76.60541   \n",
       "1            NaN      NaN    NaN       NaN               NaN        NaN   \n",
       "2        Outside  FIREARM  524.0  NORTHERN    Winston-Govans  -76.60697   \n",
       "3              I    OTHER  934.0  SOUTHERN  Carrollton Ridge  -76.64526   \n",
       "4              O    HANDS  113.0   CENTRAL     Downtown West  -76.61365   \n",
       "\n",
       "   Latitude                       Location 1     Premise  Total Incidents  \n",
       "0  39.22951  (39.2295100000, -76.6054100000)  ROW/TOWNHO              1.0  \n",
       "1       NaN                              NaN         NaN              NaN  \n",
       "2  39.34768  (39.3476800000, -76.6069700000)      Street              1.0  \n",
       "3  39.28315  (39.2831500000, -76.6452600000)  ROW/TOWNHO              1.0  \n",
       "4  39.28756  (39.2875600000, -76.6136500000)      STREET              1.0  "
      ]
     },
     "execution_count": 406,
     "metadata": {},
     "output_type": "execute_result"
    }
   ],
   "source": [
    "data_crime.head()"
   ]
  },
  {
   "cell_type": "code",
   "execution_count": 407,
   "metadata": {},
   "outputs": [
    {
     "data": {
      "text/plain": [
       "array(['2017', '2015', '2016', '2013', '2012', '2014'], dtype=object)"
      ]
     },
     "execution_count": 407,
     "metadata": {},
     "output_type": "execute_result"
    }
   ],
   "source": [
    "data_crime[\"year\"].unique()"
   ]
  },
  {
   "cell_type": "markdown",
   "metadata": {},
   "source": [
    "# How to see crime by month in 2017"
   ]
  },
  {
   "cell_type": "code",
   "execution_count": 409,
   "metadata": {},
   "outputs": [],
   "source": [
    "style_crime_by_month_in_2017=pd.DataFrame(most_crime_2017[[\"month\",'Description']].value_counts()).reset_index().rename(columns={0:\"Total crime\"})"
   ]
  },
  {
   "cell_type": "code",
   "execution_count": 410,
   "metadata": {},
   "outputs": [
    {
     "data": {
      "text/html": [
       "<div>\n",
       "<style scoped>\n",
       "    .dataframe tbody tr th:only-of-type {\n",
       "        vertical-align: middle;\n",
       "    }\n",
       "\n",
       "    .dataframe tbody tr th {\n",
       "        vertical-align: top;\n",
       "    }\n",
       "\n",
       "    .dataframe thead th {\n",
       "        text-align: right;\n",
       "    }\n",
       "</style>\n",
       "<table border=\"1\" class=\"dataframe\">\n",
       "  <thead>\n",
       "    <tr style=\"text-align: right;\">\n",
       "      <th></th>\n",
       "      <th>month</th>\n",
       "      <th>Description</th>\n",
       "      <th>Total crime</th>\n",
       "    </tr>\n",
       "  </thead>\n",
       "  <tbody>\n",
       "    <tr>\n",
       "      <th>0</th>\n",
       "      <td>04</td>\n",
       "      <td>COMMON ASSAULT</td>\n",
       "      <td>690</td>\n",
       "    </tr>\n",
       "    <tr>\n",
       "      <th>1</th>\n",
       "      <td>05</td>\n",
       "      <td>COMMON ASSAULT</td>\n",
       "      <td>686</td>\n",
       "    </tr>\n",
       "    <tr>\n",
       "      <th>2</th>\n",
       "      <td>06</td>\n",
       "      <td>COMMON ASSAULT</td>\n",
       "      <td>681</td>\n",
       "    </tr>\n",
       "    <tr>\n",
       "      <th>3</th>\n",
       "      <td>03</td>\n",
       "      <td>COMMON ASSAULT</td>\n",
       "      <td>653</td>\n",
       "    </tr>\n",
       "    <tr>\n",
       "      <th>4</th>\n",
       "      <td>07</td>\n",
       "      <td>COMMON ASSAULT</td>\n",
       "      <td>558</td>\n",
       "    </tr>\n",
       "    <tr>\n",
       "      <th>...</th>\n",
       "      <td>...</td>\n",
       "      <td>...</td>\n",
       "      <td>...</td>\n",
       "    </tr>\n",
       "    <tr>\n",
       "      <th>75</th>\n",
       "      <td>09</td>\n",
       "      <td>SHOOTING</td>\n",
       "      <td>4</td>\n",
       "    </tr>\n",
       "    <tr>\n",
       "      <th>76</th>\n",
       "      <td>09</td>\n",
       "      <td>HOMICIDE</td>\n",
       "      <td>2</td>\n",
       "    </tr>\n",
       "    <tr>\n",
       "      <th>77</th>\n",
       "      <td>09</td>\n",
       "      <td>ROBBERY - COMMERCIAL</td>\n",
       "      <td>2</td>\n",
       "    </tr>\n",
       "    <tr>\n",
       "      <th>78</th>\n",
       "      <td>09</td>\n",
       "      <td>ROBBERY - CARJACKING</td>\n",
       "      <td>1</td>\n",
       "    </tr>\n",
       "    <tr>\n",
       "      <th>79</th>\n",
       "      <td>09</td>\n",
       "      <td>ROBBERY - RESIDENCE</td>\n",
       "      <td>1</td>\n",
       "    </tr>\n",
       "  </tbody>\n",
       "</table>\n",
       "<p>80 rows × 3 columns</p>\n",
       "</div>"
      ],
      "text/plain": [
       "   month           Description  Total crime\n",
       "0     04        COMMON ASSAULT          690\n",
       "1     05        COMMON ASSAULT          686\n",
       "2     06        COMMON ASSAULT          681\n",
       "3     03        COMMON ASSAULT          653\n",
       "4     07        COMMON ASSAULT          558\n",
       "..   ...                   ...          ...\n",
       "75    09              SHOOTING            4\n",
       "76    09              HOMICIDE            2\n",
       "77    09  ROBBERY - COMMERCIAL            2\n",
       "78    09  ROBBERY - CARJACKING            1\n",
       "79    09   ROBBERY - RESIDENCE            1\n",
       "\n",
       "[80 rows x 3 columns]"
      ]
     },
     "execution_count": 410,
     "metadata": {},
     "output_type": "execute_result"
    }
   ],
   "source": [
    "style_crime_by_month_in_2017"
   ]
  },
  {
   "cell_type": "code",
   "execution_count": 411,
   "metadata": {},
   "outputs": [
    {
     "data": {
      "text/plain": [
       "month  Description         \n",
       "01     COMMON ASSAULT          276\n",
       "       AGG. ASSAULT            214\n",
       "       ROBBERY - STREET        106\n",
       "       SHOOTING                 68\n",
       "       HOMICIDE                 32\n",
       "                              ... \n",
       "09     SHOOTING                  4\n",
       "       HOMICIDE                  2\n",
       "       ROBBERY - COMMERCIAL      2\n",
       "       ROBBERY - CARJACKING      1\n",
       "       ROBBERY - RESIDENCE       1\n",
       "Name: Description, Length: 80, dtype: int64"
      ]
     },
     "execution_count": 411,
     "metadata": {},
     "output_type": "execute_result"
    }
   ],
   "source": [
    "most_crime_2017.groupby(['month'])[\"Description\"].value_counts()"
   ]
  },
  {
   "cell_type": "code",
   "execution_count": 417,
   "metadata": {},
   "outputs": [
    {
     "data": {
      "image/png": "[encoded data removed]",
      "text/plain": [
       "<Figure size 1000x500 with 1 Axes>"
      ]
     },
     "metadata": {},
     "output_type": "display_data"
    }
   ],
   "source": [
    "plt.figure(figsize=(10,5))\n",
    "sns.barplot(data=style_crime_by_month_in_2017,x=\"month\",y=\"Total crime\",hue=\"Description\")\n",
    "plt.xticks(rotation=45, ha='right')\n",
    "plt.title(\"Crime each month in 2017\")\n",
    "plt.show()"
   ]
  }
 ],
 "metadata": {
  "kernelspec": {
   "display_name": "base",
   "language": "python",
   "name": "python3"
  },
  "language_info": {
   "codemirror_mode": {
    "name": "ipython",
    "version": 3
   },
   "file_extension": ".py",
   "mimetype": "text/x-python",
   "name": "python",
   "nbconvert_exporter": "python",
   "pygments_lexer": "ipython3",
   "version": "3.11.4"
  },
  "orig_nbformat": 4
 },
 "nbformat": 4,
 "nbformat_minor": 2
}
